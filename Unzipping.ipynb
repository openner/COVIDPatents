{
 "cells": [
  {
   "cell_type": "markdown",
   "metadata": {},
   "source": [
    "This is just creating a paper trail on where the data came from and how it is opened.\n",
    "\n",
    "Note that on 2.6.2020 this underwent a significant revision. Specifically:\n",
    "* CORD is now releasing metadata.csv, document_parses.tar.gz and cord_19_embeddings.tar.gz all as one one .tar.gz. That is now the starting point for this notebook.\n",
    "* I began storing the data in a Google Drive folder, thus making the exact version I am working with accessible to all.\n",
    "\n",
    "The data I am working with in this notebook is available in Google Drive [here](https://drive.google.com/drive/folders/1jtwgw7b4ad75yzz1cwpIQUg3ur6Sn-UK?usp=sharing). It is the 1.6.2020 release of CORD-19. Release history can be checked [here](https://ai2-semanticscholar-cord-19.s3-us-west-2.amazonaws.com/historical_releases.html).\n",
    "\n",
    "The .tar.gz file this notebook deals with contains three data::\n",
    "* article metadata (metadata.csv)\n",
    "* parsed articles (document_parses.tar.gz)\n",
    "* article embeddings based on the SPECTER model (cord_19_embeddings.tar.gz)\n",
    "\n",
    "This notebook simply unzips them and reorganizes.\n",
    "\n",
    "I also do a quick check on filesizes, but contents of each will be explored in more detail in ExploringDataStructures.ipynb.\n",
    "\n",
    "__Note__: This just uses command line tools. Unfortunately that means that it is unlikely to port to macOS and almost certainly will not port to Windows. It is just intended to be quick and dirty. This is to be corrected at a later date."
   ]
  },
  {
   "cell_type": "markdown",
   "metadata": {},
   "source": [
    "### cord-19_2020-06-01.tar.gz\n",
    "\n",
    "The assumption is that you have downloaded the .tar.gz from the Google Drive folder linked above and it is in your local directory."
   ]
  },
  {
   "cell_type": "code",
   "execution_count": 1,
   "metadata": {},
   "outputs": [],
   "source": [
    "!du -h cord-19_2020-06-01.tar.gz"
   ]
  },
  {
   "cell_type": "markdown",
   "metadata": {},
   "source": [
    "So the full .tar.gz is 2.9GB.\n",
    "\n",
    "Now unzip it to a local directory."
   ]
  },
  {
   "cell_type": "code",
   "execution_count": 2,
   "metadata": {},
   "outputs": [],
   "source": [
    "!mkdir ./cord-19_2020-06-01\n",
    "!tar -xzf cord-19_2020-06-01.tar.gz -C ./cord-19_2020-06-01/ --strip-components=1"
   ]
  },
  {
   "cell_type": "code",
   "execution_count": 3,
   "metadata": {},
   "outputs": [
    {
     "name": "stdout",
     "output_type": "stream",
     "text": [
      "changelog  cord_19_embeddings.tar.gz  document_parses.tar.gz  metadata.csv\n"
     ]
    }
   ],
   "source": [
    "!ls cord-19_2020-06-01"
   ]
  },
  {
   "cell_type": "markdown",
   "metadata": {},
   "source": [
    "There are 4 files here. Three of which (cord_19_embeddings.tar.gz  document_parses.tar.gz  metadata.csv) will be dealt with below."
   ]
  },
  {
   "cell_type": "markdown",
   "metadata": {},
   "source": [
    "### metadata.csv"
   ]
  },
  {
   "cell_type": "code",
   "execution_count": 4,
   "metadata": {},
   "outputs": [
    {
     "name": "stdout",
     "output_type": "stream",
     "text": [
      "140533\n"
     ]
    }
   ],
   "source": [
    "!wc -l < ./cord-19_2020-06-01/metadata.csv"
   ]
  },
  {
   "cell_type": "markdown",
   "metadata": {},
   "source": [
    "So it contains 140533 lines. It stands to reason that each line contains the metadata of a single article."
   ]
  },
  {
   "cell_type": "code",
   "execution_count": 5,
   "metadata": {},
   "outputs": [
    {
     "name": "stdout",
     "output_type": "stream",
     "text": [
      "203M\t./cord-19_2020-06-01/metadata.csv\n"
     ]
    }
   ],
   "source": [
    "!du -h ./cord-19_2020-06-01/metadata.csv"
   ]
  },
  {
   "cell_type": "markdown",
   "metadata": {},
   "source": [
    "It is also 203MB. Which is neither here nor there, but good to keep track of."
   ]
  },
  {
   "cell_type": "markdown",
   "metadata": {},
   "source": [
    "### document_parses.tar.gz"
   ]
  },
  {
   "cell_type": "code",
   "execution_count": 6,
   "metadata": {},
   "outputs": [
    {
     "name": "stdout",
     "output_type": "stream",
     "text": [
      "1.9G\t./cord-19_2020-06-01/document_parses.tar.gz\n"
     ]
    }
   ],
   "source": [
    "!du -h ./cord-19_2020-06-01/document_parses.tar.gz"
   ]
  },
  {
   "cell_type": "markdown",
   "metadata": {},
   "source": [
    "So the tar.gz is 1.5GB.\n",
    "\n",
    "Now unzip it."
   ]
  },
  {
   "cell_type": "code",
   "execution_count": 7,
   "metadata": {},
   "outputs": [],
   "source": [
    "!tar -xzf ./cord-19_2020-06-01/document_parses.tar.gz -C ./cord-19_2020-06-01/"
   ]
  },
  {
   "cell_type": "code",
   "execution_count": 8,
   "metadata": {},
   "outputs": [
    {
     "name": "stdout",
     "output_type": "stream",
     "text": [
      "cord-19_2020-06-01\t       ProjectOverview.ipynb  Unzipping.ipynb\n",
      "cord-19_2020-06-01.tar.gz      PubmedDownload.ipynb\n",
      "ExploringDataStructures.ipynb  README.md\n"
     ]
    }
   ],
   "source": [
    "!ls"
   ]
  },
  {
   "cell_type": "markdown",
   "metadata": {},
   "source": [
    "Unzipped to a directory document_parses."
   ]
  },
  {
   "cell_type": "code",
   "execution_count": 9,
   "metadata": {},
   "outputs": [
    {
     "name": "stdout",
     "output_type": "stream",
     "text": [
      "6.7G\t./cord-19_2020-06-01/document_parses/pdf_json\n",
      "4.7G\t./cord-19_2020-06-01/document_parses/pmc_json\n",
      "12G\t./cord-19_2020-06-01/document_parses\n"
     ]
    }
   ],
   "source": [
    "!du -h ./cord-19_2020-06-01/document_parses"
   ]
  },
  {
   "cell_type": "markdown",
   "metadata": {},
   "source": [
    "At 12GB this is quite a but larger but surprisingly manageable for full text."
   ]
  },
  {
   "cell_type": "code",
   "execution_count": 10,
   "metadata": {},
   "outputs": [
    {
     "name": "stdout",
     "output_type": "stream",
     "text": [
      "65782\n"
     ]
    }
   ],
   "source": [
    "!ls ./cord-19_2020-06-01/document_parses/pdf_json/ | wc -l"
   ]
  },
  {
   "cell_type": "markdown",
   "metadata": {},
   "source": [
    "So that is a bit gnarly, 65782 files in the directory. I guess one per article pdf."
   ]
  },
  {
   "cell_type": "code",
   "execution_count": 11,
   "metadata": {},
   "outputs": [
    {
     "name": "stdout",
     "output_type": "stream",
     "text": [
      "48151\n"
     ]
    }
   ],
   "source": [
    "!ls ./cord-19_2020-06-01/document_parses/pmc_json/ | wc -l"
   ]
  },
  {
   "cell_type": "markdown",
   "metadata": {},
   "source": [
    "Again a lot of full text parse files. Given that it looks like we have metadata for 140533 articles, I guess we are missing full text for a lot. "
   ]
  },
  {
   "cell_type": "markdown",
   "metadata": {},
   "source": [
    "### cord_19_embeddings.tar.gz"
   ]
  },
  {
   "cell_type": "code",
   "execution_count": 12,
   "metadata": {},
   "outputs": [
    {
     "name": "stdout",
     "output_type": "stream",
     "text": [
      "897M\t./cord-19_2020-06-01/cord_19_embeddings.tar.gz\n"
     ]
    }
   ],
   "source": [
    "!du -h ./cord-19_2020-06-01/cord_19_embeddings.tar.gz"
   ]
  },
  {
   "cell_type": "markdown",
   "metadata": {},
   "source": [
    "This tar is almost 900MB.\n",
    "\n",
    "Unzipping it."
   ]
  },
  {
   "cell_type": "code",
   "execution_count": 13,
   "metadata": {},
   "outputs": [],
   "source": [
    "!tar -xzf ./cord-19_2020-06-01/cord_19_embeddings.tar.gz -C ./cord-19_2020-06-01/"
   ]
  },
  {
   "cell_type": "code",
   "execution_count": 14,
   "metadata": {},
   "outputs": [
    {
     "name": "stdout",
     "output_type": "stream",
     "text": [
      "changelog\t\t\t   document_parses\n",
      "cord_19_embeddings_2020-06-01.csv  document_parses.tar.gz\n",
      "cord_19_embeddings.tar.gz\t   metadata.csv\n"
     ]
    }
   ],
   "source": [
    "!ls ./cord-19_2020-06-01/"
   ]
  },
  {
   "cell_type": "markdown",
   "metadata": {},
   "source": [
    "Has unzipped to a file cord_19_embeddings_2020-06-01.csv."
   ]
  },
  {
   "cell_type": "code",
   "execution_count": 15,
   "metadata": {},
   "outputs": [
    {
     "name": "stdout",
     "output_type": "stream",
     "text": [
      "2.0G\t./cord-19_2020-06-01/cord_19_embeddings_2020-06-01.csv\n"
     ]
    }
   ],
   "source": [
    "!du -h ./cord-19_2020-06-01/cord_19_embeddings_2020-06-01.csv"
   ]
  },
  {
   "cell_type": "markdown",
   "metadata": {},
   "source": [
    "2GB of embeddings data."
   ]
  },
  {
   "cell_type": "code",
   "execution_count": 16,
   "metadata": {},
   "outputs": [
    {
     "name": "stdout",
     "output_type": "stream",
     "text": [
      "140532\n"
     ]
    }
   ],
   "source": [
    "!wc -l < ./cord-19_2020-06-01/cord_19_embeddings_2020-06-01.csv"
   ]
  },
  {
   "cell_type": "markdown",
   "metadata": {},
   "source": [
    "Similar number of lines (and presumably, records) as metadata.csv. "
   ]
  }
 ],
 "metadata": {
  "kernelspec": {
   "display_name": "Python 3",
   "language": "python",
   "name": "python3"
  },
  "language_info": {
   "codemirror_mode": {
    "name": "ipython",
    "version": 3
   },
   "file_extension": ".py",
   "mimetype": "text/x-python",
   "name": "python",
   "nbconvert_exporter": "python",
   "pygments_lexer": "ipython3",
   "version": "3.5.2"
  }
 },
 "nbformat": 4,
 "nbformat_minor": 4
}
