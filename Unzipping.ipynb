{
 "cells": [
  {
   "cell_type": "markdown",
   "metadata": {},
   "source": [
    "This is just creating a paper trail on where the data came from and how it is opened.\n",
    "\n",
    "Note that on 2.6.2020 this underwent a significant revision. Specifically:\n",
    "* CORD is now releasing metadata.csv, document_parses.tar.gz and cord_19_embeddings.tar.gz all as one one .tar.gz. Thus that is now the starting point for this notebook.\n",
    "* I began storing the data in a Google Drive folder, thus making the exact version I am working with accessible to all.\n",
    "\n",
    "The data consists of:\n",
    "* article metadata (metadata.csv)\n",
    "* parsed articles (document_parses.tar.gz)\n",
    "* article embeddings based on the SPECTER model (cord_19_embeddings.tar.gz)\n",
    "\n",
    "all downloaded from https://www.semanticscholar.org/cord19/download on 19.05.2020.\n",
    "\n",
    "For those that need to be unzipping and/or re-organization, that is done here.\n",
    "\n",
    "I also do a quick check on filesizes, but contents of each will be explored in more detail in ExploringDataStructures.ipynb.\n",
    "\n",
    "__Note__: This just uses command line tools. Unfortunately that means that it is unlikely to port to macOS and almost certainly will not port to Windows. It is just intended to be quick and dirty."
   ]
  },
  {
   "cell_type": "code",
   "execution_count": null,
   "metadata": {},
   "outputs": [],
   "source": [
    "https://drive.google.com/file/d/17WBtdUOEq77OoOXj62oZP_ysEUyZNKMb/view?usp=sharing"
   ]
  },
  {
   "cell_type": "markdown",
   "metadata": {},
   "source": [
    "### metadata.csv"
   ]
  },
  {
   "cell_type": "code",
   "execution_count": 1,
   "metadata": {},
   "outputs": [
    {
     "name": "stdout",
     "output_type": "stream",
     "text": [
      "63627\n"
     ]
    }
   ],
   "source": [
    "!wc -l < metadata.csv"
   ]
  },
  {
   "cell_type": "markdown",
   "metadata": {},
   "source": [
    "So it contains 63627 lines. It stands to reason that each line contains the metadata of a single article."
   ]
  },
  {
   "cell_type": "code",
   "execution_count": 2,
   "metadata": {},
   "outputs": [
    {
     "name": "stdout",
     "output_type": "stream",
     "text": [
      "93M\tmetadata.csv\n"
     ]
    }
   ],
   "source": [
    "!du -h metadata.csv"
   ]
  },
  {
   "cell_type": "markdown",
   "metadata": {},
   "source": [
    "It is also 93MB. Which is neither here nor there, but good to keep track of."
   ]
  },
  {
   "cell_type": "markdown",
   "metadata": {},
   "source": [
    "### document_parses.tar.gz"
   ]
  },
  {
   "cell_type": "code",
   "execution_count": 3,
   "metadata": {},
   "outputs": [
    {
     "name": "stdout",
     "output_type": "stream",
     "text": [
      "1.5G\tdocument_parses.tar.gz\n"
     ]
    }
   ],
   "source": [
    "!du -h document_parses.tar.gz"
   ]
  },
  {
   "cell_type": "markdown",
   "metadata": {},
   "source": [
    "So the tar.gz is 1.5GB.\n",
    "\n",
    "Now unzip it."
   ]
  },
  {
   "cell_type": "code",
   "execution_count": 4,
   "metadata": {},
   "outputs": [],
   "source": [
    "!tar -xzf document_parses.tar.gz"
   ]
  },
  {
   "cell_type": "code",
   "execution_count": 5,
   "metadata": {},
   "outputs": [
    {
     "name": "stdout",
     "output_type": "stream",
     "text": [
      "cord_19_embeddings_5_12.csv  document_parses.tar.gz\t    README.md\n",
      "cord_19_embeddings.tar.gz    ExploringDataStructures.ipynb  Unzipping.ipynb\n",
      "document_parses\t\t     metadata.csv\n"
     ]
    }
   ],
   "source": [
    "!ls"
   ]
  },
  {
   "cell_type": "markdown",
   "metadata": {},
   "source": [
    "Unzipped to a directory document_parses."
   ]
  },
  {
   "cell_type": "code",
   "execution_count": 6,
   "metadata": {},
   "outputs": [
    {
     "name": "stdout",
     "output_type": "stream",
     "text": [
      "4.9G\tdocument_parses/pdf_json\n",
      "3.5G\tdocument_parses/pmc_json\n",
      "8.4G\tdocument_parses\n"
     ]
    }
   ],
   "source": [
    "!du -h document_parses"
   ]
  },
  {
   "cell_type": "markdown",
   "metadata": {},
   "source": [
    "At 8.4GB this is quite a but larger but surprisingly manageable for full text."
   ]
  },
  {
   "cell_type": "code",
   "execution_count": 7,
   "metadata": {},
   "outputs": [
    {
     "name": "stdout",
     "output_type": "stream",
     "text": [
      "51868\n"
     ]
    }
   ],
   "source": [
    "!ls document_parses/pdf_json/ | wc -l"
   ]
  },
  {
   "cell_type": "markdown",
   "metadata": {},
   "source": [
    "So that is a bit gnarly, 51868 files in the directory. I guess one per article pdf."
   ]
  },
  {
   "cell_type": "code",
   "execution_count": 8,
   "metadata": {},
   "outputs": [
    {
     "name": "stdout",
     "output_type": "stream",
     "text": [
      "33503\n"
     ]
    }
   ],
   "source": [
    "!ls document_parses/pmc_json/ | wc -l"
   ]
  },
  {
   "cell_type": "markdown",
   "metadata": {},
   "source": [
    "Again a lot of full text parse files. Given that it looks like we have metadata for 63627 article, I guess there is some overlap between the PMC set and the pdf set, or maybe are just missing metadata for some."
   ]
  },
  {
   "cell_type": "markdown",
   "metadata": {},
   "source": [
    "### cord_19_embeddings.tar.gz"
   ]
  },
  {
   "cell_type": "code",
   "execution_count": 9,
   "metadata": {},
   "outputs": [
    {
     "name": "stdout",
     "output_type": "stream",
     "text": [
      "407M\tcord_19_embeddings.tar.gz\n"
     ]
    }
   ],
   "source": [
    "!du -h cord_19_embeddings.tar.gz"
   ]
  },
  {
   "cell_type": "markdown",
   "metadata": {},
   "source": [
    "This tar is just 400MB.\n",
    "\n",
    "Unzipping it."
   ]
  },
  {
   "cell_type": "code",
   "execution_count": 10,
   "metadata": {},
   "outputs": [],
   "source": [
    "!tar -xzf cord_19_embeddings.tar.gz"
   ]
  },
  {
   "cell_type": "code",
   "execution_count": 11,
   "metadata": {},
   "outputs": [
    {
     "name": "stdout",
     "output_type": "stream",
     "text": [
      "cord_19_embeddings_5_12.csv  document_parses.tar.gz\t    README.md\n",
      "cord_19_embeddings.tar.gz    ExploringDataStructures.ipynb  Unzipping.ipynb\n",
      "document_parses\t\t     metadata.csv\n"
     ]
    }
   ],
   "source": [
    "!ls"
   ]
  },
  {
   "cell_type": "markdown",
   "metadata": {},
   "source": [
    "Has unzipped to a file cord_19_embeddings_5_12.csv."
   ]
  },
  {
   "cell_type": "code",
   "execution_count": 12,
   "metadata": {},
   "outputs": [
    {
     "name": "stdout",
     "output_type": "stream",
     "text": [
      "894M\tcord_19_embeddings_5_12.csv\n"
     ]
    }
   ],
   "source": [
    "!du -h cord_19_embeddings_5_12.csv"
   ]
  },
  {
   "cell_type": "markdown",
   "metadata": {},
   "source": [
    "About a GB of embeddings data."
   ]
  },
  {
   "cell_type": "code",
   "execution_count": 13,
   "metadata": {},
   "outputs": [
    {
     "name": "stdout",
     "output_type": "stream",
     "text": [
      "63571\n"
     ]
    }
   ],
   "source": [
    "!wc -l < cord_19_embeddings_5_12.csv"
   ]
  },
  {
   "cell_type": "markdown",
   "metadata": {},
   "source": [
    "Similar number of lines (and presumably, records) as metadata.csv. "
   ]
  }
 ],
 "metadata": {
  "kernelspec": {
   "display_name": "Python 3",
   "language": "python",
   "name": "python3"
  },
  "language_info": {
   "codemirror_mode": {
    "name": "ipython",
    "version": 3
   },
   "file_extension": ".py",
   "mimetype": "text/x-python",
   "name": "python",
   "nbconvert_exporter": "python",
   "pygments_lexer": "ipython3",
   "version": "3.5.2"
  }
 },
 "nbformat": 4,
 "nbformat_minor": 4
}
