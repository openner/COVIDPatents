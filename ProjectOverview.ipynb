{
 "cells": [
  {
   "cell_type": "markdown",
   "metadata": {},
   "source": [
    "# Overview\n",
    "\n",
    "This notebook is intended to serve as an ongoing overview of the project, its components and the organization thereof. It is, more generally, intended to track its evolution, so at times may be a bit raw."
   ]
  },
  {
   "cell_type": "markdown",
   "metadata": {},
   "source": [
    "## 1. Components\n",
    "\n",
    "### Notebooks\n",
    "__Unzipping.ipynb__ - \n",
    "\n",
    "__ExploringDataStructure.ipynb__ - \n",
    "\n",
    "__PubmedDownload.ipynb__ - \n",
    "\n",
    "### Data\n",
    "__CORD-19__ - "
   ]
  }
 ],
 "metadata": {
  "kernelspec": {
   "display_name": "Python 3",
   "language": "python",
   "name": "python3"
  },
  "language_info": {
   "codemirror_mode": {
    "name": "ipython",
    "version": 3
   },
   "file_extension": ".py",
   "mimetype": "text/x-python",
   "name": "python",
   "nbconvert_exporter": "python",
   "pygments_lexer": "ipython3",
   "version": "3.5.2"
  }
 },
 "nbformat": 4,
 "nbformat_minor": 4
}
